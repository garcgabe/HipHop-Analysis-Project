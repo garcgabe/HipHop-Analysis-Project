{
 "cells": [
  {
   "cell_type": "code",
   "execution_count": 2,
   "metadata": {},
   "outputs": [],
   "source": [
    "import spotipy\n",
    "from spotipy.oauth2 import SpotifyClientCredentials\n",
    "\n",
    "class spotWrapper():\n",
    "    def __init__(self):\n",
    "        client_id = 'accd0aa479164ddcbf1cbf822512b80b'\n",
    "        client_secret = '58bfc467435045e7b61c86fb03385729'\n",
    "        client_credentials_manager = SpotifyClientCredentials(client_id=client_id, client_secret=client_secret)\n",
    "        self.spot = spotipy.Spotify(client_credentials_manager=client_credentials_manager)\n",
    "    def searchArtist(self, string):\n",
    "        return self.spot.search(q=string, type=\"artist\")\n",
    "    def getAlbums(self, uri):\n",
    "        return self.spot.artist_albums(uri, album_type=\"album\")\n",
    "    def getTrack(self, song, artist):\n",
    "        return self.spot.search(q=str(song + ' ' + artist))\n",
    "    def getAudioFeatures(self, song_id):\n",
    "        return self.spot.audio_features(song_id)\n",
    "def readArtists():\n",
    "    artists = []\n",
    "    with open('/Users/garcgabe/Desktop/artists.txt') as file:\n",
    "        name = 'x'\n",
    "        while(name != ''):\n",
    "            name = file.readline()\n",
    "            if name.strip() and 'stop' not in name:\n",
    "                artists.append(name.split(\"\\n\")[0])  \n",
    "            else:\n",
    "                break\n",
    "    return artists\n",
    "\n",
    "spot = spotWrapper()\n",
    "artists = readArtists()\n",
    "\n"
   ]
  },
  {
   "cell_type": "code",
   "execution_count": 3,
   "metadata": {},
   "outputs": [],
   "source": [
    "# title of each column\n",
    "columns = [\"artist_name\", \"spotify_name\", \"artist_uri\", \"spotify_popularity\", \n",
    "           \"spotify_followers\",\"genres\"]\n",
    "# init empty lists to load then concat into DF\n",
    "artist_name, spotify_name, artist_uri, genres, spotify_popularity, spotify_followers  = ([] for i in range (6))\n",
    "\n",
    "for i in range(0,len(artists)):\n",
    "    # for each Name from Genius, search under artists and return data \n",
    "    search_name = artists[i]\n",
    "    search_name_tree = spot.searchArtist(search_name)['artists']['items'][0]\n",
    "\n",
    "    artist_name.append(search_name)\n",
    "    spotify_name.append(search_name_tree[\"name\"])\n",
    "    artist_uri.append(search_name_tree[\"uri\"])\n",
    "    genres.append(search_name_tree[\"genres\"])\n",
    "    spotify_popularity.append(search_name_tree[\"popularity\"])\n",
    "    spotify_followers.append(search_name_tree[\"followers\"][\"total\"])\n",
    "\n",
    "    spotify_artists_df = pd.concat([pd.Series(artist_name), pd.Series(spotify_name), pd.Series(artist_uri),\n",
    "                                    pd.Series(spotify_popularity), pd.Series(spotify_followers), pd.Series(genres)], \n",
    "                                    axis=1, keys=columns)\n"
   ]
  },
  {
   "cell_type": "code",
   "execution_count": 6,
   "metadata": {},
   "outputs": [],
   "source": [
    "spotify_artists_df.to_excel(\"/Users/garcgabe/Desktop/SpotifyArtists.xlsx\")\n"
   ]
  },
  {
   "cell_type": "code",
   "execution_count": null,
   "metadata": {},
   "outputs": [],
   "source": []
  },
  {
   "cell_type": "code",
   "execution_count": null,
   "metadata": {},
   "outputs": [],
   "source": []
  }
 ],
 "metadata": {
  "kernelspec": {
   "display_name": "Python 3",
   "language": "python",
   "name": "python3"
  },
  "language_info": {
   "codemirror_mode": {
    "name": "ipython",
    "version": 3
   },
   "file_extension": ".py",
   "mimetype": "text/x-python",
   "name": "python",
   "nbconvert_exporter": "python",
   "pygments_lexer": "ipython3",
   "version": "3.10.7"
  },
  "orig_nbformat": 4
 },
 "nbformat": 4,
 "nbformat_minor": 2
}
