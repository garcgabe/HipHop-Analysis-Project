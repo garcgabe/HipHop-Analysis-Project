{
 "cells": [
  {
   "cell_type": "code",
   "execution_count": 24,
   "metadata": {},
   "outputs": [
    {
     "name": "stderr",
     "output_type": "stream",
     "text": [
      "2024-01-09 22:15:19,799:INFO - HTTP Request: GET https://snuqfngjrznygycntzst.supabase.co/rest/v1/songs?select=metrics%28popularity%29&artist_names=like.%25Drake%25 \"HTTP/1.1 200 OK\"\n"
     ]
    },
    {
     "name": "stdout",
     "output_type": "stream",
     "text": [
      "(33, 65, 92)\n"
     ]
    }
   ],
   "source": [
    "from supabase import create_client\n",
    "from utils.env import SUPABASE_URL, SUPABASE_KEY\n",
    "\n",
    "\n",
    "supabase = create_client(SUPABASE_URL, SUPABASE_KEY)\n",
    "\n",
    "def _get_distribution(artist, column):\n",
    "    filter_response = supabase.table(\"songs\")\\\n",
    "        .select(f\"metrics({column})\")\\\n",
    "        .like('artist_names', f'%{artist}%')\\\n",
    "        .execute()\n",
    "    results = [x.get('metrics').get(f'{column}') for x in filter_response.data]\n",
    "    return (min(results), round(sum(results)/len(results)), max(results))\n",
    "\n",
    "resp = _get_distribution(\"Drake\", \"popularity\")\n",
    "print(resp)"
   ]
  }
 ],
 "metadata": {
  "kernelspec": {
   "display_name": "Python 3",
   "language": "python",
   "name": "python3"
  },
  "language_info": {
   "codemirror_mode": {
    "name": "ipython",
    "version": 3
   },
   "file_extension": ".py",
   "mimetype": "text/x-python",
   "name": "python",
   "nbconvert_exporter": "python",
   "pygments_lexer": "ipython3",
   "version": "3.10.7"
  },
  "orig_nbformat": 4
 },
 "nbformat": 4,
 "nbformat_minor": 2
}
