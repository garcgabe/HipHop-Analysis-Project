{
 "cells": [
  {
   "cell_type": "code",
   "execution_count": 10,
   "metadata": {},
   "outputs": [
    {
     "name": "stderr",
     "output_type": "stream",
     "text": [
      "2024-01-22 10:33:33,444:INFO - HTTP Request: GET https://snuqfngjrznygycntzst.supabase.co/rest/v1/albums?select=album_name%2C%20metrics%28popularity%2C%20danceability%2C%20energy%2C%20valence%29&artist_uris=like.%25spotify%3Aartist%3A13ubrt8QOOCPljQ2FL1Kca%25 \"HTTP/1.1 200 OK\"\n"
     ]
    },
    {
     "name": "stdout",
     "output_type": "stream",
     "text": [
      "LIVE.LOVE.A$AP\n"
     ]
    }
   ],
   "source": [
    "from supabase import create_client\n",
    "import pandas as pd\n",
    "import utils.env as env\n",
    "\n",
    "url = env.SUPABASE_URL\n",
    "key = env.SUPABASE_KEY\n",
    "supabase = create_client(url, key)\n",
    "\n",
    "\n",
    "def _get_all_album_statistics(artist_uri):\n",
    "    album_response = supabase.table(\"albums\")\\\n",
    "        .select(\"album_name, metrics(popularity, danceability, energy, valence)\")\\\n",
    "        .like('artist_uris', f'%{artist_uri}%')\\\n",
    "        .execute()\n",
    "    # convert all data to DF; then return\n",
    "    return album_response.data\n",
    "\n",
    "response = _get_all_album_statistics(\"spotify:artist:13ubrt8QOOCPljQ2FL1Kca\")\n",
    "for idx, album in enumerate(response):\n",
    "    name = response[idx].get('album_name')\n",
    "    #metrics = response.get('metrics')\n",
    "print(name)\n"
   ]
  }
 ],
 "metadata": {
  "kernelspec": {
   "display_name": "Python 3",
   "language": "python",
   "name": "python3"
  },
  "language_info": {
   "codemirror_mode": {
    "name": "ipython",
    "version": 3
   },
   "file_extension": ".py",
   "mimetype": "text/x-python",
   "name": "python",
   "nbconvert_exporter": "python",
   "pygments_lexer": "ipython3",
   "version": "3.10.7"
  },
  "orig_nbformat": 4
 },
 "nbformat": 4,
 "nbformat_minor": 2
}
