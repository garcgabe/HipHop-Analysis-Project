{
 "cells": [
  {
   "cell_type": "code",
   "execution_count": null,
   "metadata": {},
   "outputs": [
    {
     "ename": "ModuleNotFoundError",
     "evalue": "No module named 'supabase'",
     "output_type": "error",
     "traceback": [
      "\u001b[0;31m---------------------------------------------------------------------------\u001b[0m",
      "\u001b[0;31mModuleNotFoundError\u001b[0m                       Traceback (most recent call last)",
      "Cell \u001b[0;32mIn [1], line 1\u001b[0m\n\u001b[0;32m----> 1\u001b[0m \u001b[38;5;28;01mfrom\u001b[39;00m \u001b[38;5;21;01msupabase\u001b[39;00m \u001b[38;5;28;01mimport\u001b[39;00m create_client\n\u001b[1;32m      2\u001b[0m \u001b[38;5;28;01mimport\u001b[39;00m \u001b[38;5;21;01mstreamlit\u001b[39;00m \u001b[38;5;28;01mas\u001b[39;00m \u001b[38;5;21;01mst\u001b[39;00m\n\u001b[1;32m      3\u001b[0m \u001b[38;5;28;01mimport\u001b[39;00m \u001b[38;5;21;01mpandas\u001b[39;00m \u001b[38;5;28;01mas\u001b[39;00m \u001b[38;5;21;01mpd\u001b[39;00m\n",
      "\u001b[0;31mModuleNotFoundError\u001b[0m: No module named 'supabase'"
     ]
    }
   ],
   "source": [
    "from supabase import create_client\n",
    "import streamlit as st\n",
    "import pandas as pd\n",
    "\n",
    "url = st.secrets[\"supabase_url\"].SUPABASE_URL\n",
    "key = st.secrets[\"supabase_key\"].SUPABASE_KEY\n",
    "\n",
    "supabase = create_client(url, key)\n",
    "\n",
    "def _get_top_songs(artist, number):\n",
    "    filter_response = supabase.table(\"songs\")\\\n",
    "        .select(\"song_uri, song_name, metrics(song_uri)\")\\\n",
    "        .like('artist_names', f'%{artist}%')\\\n",
    "        .limit(number)\\\n",
    "        .execute()\n",
    "        # b/t like and limit\n",
    "        #.order(\"popularity\", desc=True)\\\n",
    "    print(f\"DEBUG:{filter_response.data}\")\n",
    "    return [(x.get('song_name'), x.get('popularity')) for x in filter_response.data]\n",
    "\n",
    "topsongs = _get_top_songs(\"Kanye West\")"
   ]
  }
 ],
 "metadata": {
  "kernelspec": {
   "display_name": "Python 3",
   "language": "python",
   "name": "python3"
  },
  "language_info": {
   "codemirror_mode": {
    "name": "ipython",
    "version": 3
   },
   "file_extension": ".py",
   "mimetype": "text/x-python",
   "name": "python",
   "nbconvert_exporter": "python",
   "pygments_lexer": "ipython3",
   "version": "3.10.7"
  },
  "orig_nbformat": 4
 },
 "nbformat": 4,
 "nbformat_minor": 2
}
