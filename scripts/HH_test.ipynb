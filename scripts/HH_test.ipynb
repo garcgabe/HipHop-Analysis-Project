{
 "cells": [
  {
   "cell_type": "code",
   "execution_count": 9,
   "metadata": {},
   "outputs": [
    {
     "name": "stderr",
     "output_type": "stream",
     "text": [
      "2024-01-22 10:32:45,872:INFO - HTTP Request: GET https://snuqfngjrznygycntzst.supabase.co/rest/v1/albums?select=album_name%2C%20metrics%28popularity%2C%20danceability%2C%20energy%2C%20valence%29&artist_uris=like.%25spotify%3Aartist%3A13ubrt8QOOCPljQ2FL1Kca%25 \"HTTP/1.1 200 OK\"\n"
     ]
    },
    {
     "name": "stdout",
     "output_type": "stream",
     "text": [
      "TESTING [{'energy': 0.869, 'valence': 0.082, 'popularity': 55, 'danceability': 0.655}, {'energy': 0.754, 'valence': 0.394, 'popularity': 63, 'danceability': 0.428}, {'energy': 0.783, 'valence': 0.33, 'popularity': 57, 'danceability': 0.512}, {'energy': 0.412, 'valence': 0.304, 'popularity': 67, 'danceability': 0.798}, {'energy': 0.569, 'valence': 0.294, 'popularity': 83, 'danceability': 0.854}, {'energy': 0.403, 'valence': 0.463, 'popularity': 52, 'danceability': 0.514}, {'energy': 0.85, 'valence': 0.58, 'popularity': 55, 'danceability': 0.433}, {'energy': 0.632, 'valence': 0.715, 'popularity': 56, 'danceability': 0.852}, {'energy': 0.398, 'valence': 0.437, 'popularity': 49, 'danceability': 0.57}, {'energy': 0.477, 'valence': 0.313, 'popularity': 54, 'danceability': 0.91}, {'energy': 0.669, 'valence': 0.127, 'popularity': 59, 'danceability': 0.302}, {'energy': 0.546, 'valence': 0.355, 'popularity': 59, 'danceability': 0.584}, {'energy': 0.326, 'valence': 0.338, 'popularity': 57, 'danceability': 0.478}, {'energy': 0.596, 'valence': 0.265, 'popularity': 51, 'danceability': 0.695}, {'energy': 0.37, 'valence': 0.312, 'popularity': 68, 'danceability': 0.593}]\n",
      "TESTING [{'energy': 0.869, 'valence': 0.082, 'popularity': 55, 'danceability': 0.655}, {'energy': 0.754, 'valence': 0.394, 'popularity': 63, 'danceability': 0.428}, {'energy': 0.783, 'valence': 0.33, 'popularity': 57, 'danceability': 0.512}, {'energy': 0.412, 'valence': 0.304, 'popularity': 67, 'danceability': 0.798}, {'energy': 0.569, 'valence': 0.294, 'popularity': 83, 'danceability': 0.854}, {'energy': 0.403, 'valence': 0.463, 'popularity': 52, 'danceability': 0.514}, {'energy': 0.85, 'valence': 0.58, 'popularity': 55, 'danceability': 0.433}, {'energy': 0.632, 'valence': 0.715, 'popularity': 56, 'danceability': 0.852}, {'energy': 0.398, 'valence': 0.437, 'popularity': 49, 'danceability': 0.57}, {'energy': 0.477, 'valence': 0.313, 'popularity': 54, 'danceability': 0.91}, {'energy': 0.669, 'valence': 0.127, 'popularity': 59, 'danceability': 0.302}, {'energy': 0.546, 'valence': 0.355, 'popularity': 59, 'danceability': 0.584}, {'energy': 0.326, 'valence': 0.338, 'popularity': 57, 'danceability': 0.478}, {'energy': 0.596, 'valence': 0.265, 'popularity': 51, 'danceability': 0.695}, {'energy': 0.37, 'valence': 0.312, 'popularity': 68, 'danceability': 0.593}]\n"
     ]
    }
   ],
   "source": [
    "from supabase import create_client\n",
    "import pandas as pd\n",
    "import utils.env as env\n",
    "\n",
    "url = env.SUPABASE_URL\n",
    "key = env.SUPABASE_KEY\n",
    "supabase = create_client(url, key)\n",
    "\n",
    "\n",
    "def _get_all_album_statistics(artist_uri):\n",
    "    album_response = supabase.table(\"albums\")\\\n",
    "        .select(\"album_name, metrics(popularity, danceability, energy, valence)\")\\\n",
    "        .like('artist_uris', f'%{artist_uri}%')\\\n",
    "        .execute()\n",
    "    # convert all data to DF; then return\n",
    "    return album_response.data\n",
    "\n",
    "response = _get_all_album_statistics(\"spotify:artist:13ubrt8QOOCPljQ2FL1Kca\")\n",
    "for idx, album in enumerate(response):\n",
    "    name = response[idx].get('album_name')\n",
    "    #metrics = response.get('metrics')\n",
    "print(name)\n"
   ]
  }
 ],
 "metadata": {
  "kernelspec": {
   "display_name": "Python 3",
   "language": "python",
   "name": "python3"
  },
  "language_info": {
   "codemirror_mode": {
    "name": "ipython",
    "version": 3
   },
   "file_extension": ".py",
   "mimetype": "text/x-python",
   "name": "python",
   "nbconvert_exporter": "python",
   "pygments_lexer": "ipython3",
   "version": "3.10.7"
  },
  "orig_nbformat": 4
 },
 "nbformat": 4,
 "nbformat_minor": 2
}
