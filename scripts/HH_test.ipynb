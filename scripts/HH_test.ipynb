{
 "cells": [
  {
   "cell_type": "code",
   "execution_count": 15,
   "metadata": {},
   "outputs": [
    {
     "name": "stdout",
     "output_type": "stream",
     "text": [
      "<class 'pandas.core.frame.DataFrame'>\n",
      "                                  song_uri\n",
      "0     spotify:track:000TJlEJQ3nafsm1hBWpoj\n",
      "1     spotify:track:001tGjS4WX77wtQGCP8Sfm\n",
      "2     spotify:track:00G8RCi9pouKt0K5vQQmzE\n",
      "3     spotify:track:00JA27dAnIPXljobCwtS36\n",
      "4     spotify:track:00K7fIMPIPFGT9KVsQVQYR\n",
      "...                                    ...\n",
      "5990  spotify:track:7zdanauvITJaq9OE7bBz0c\n",
      "5991  spotify:track:7ze7yEV1xvxPxuPaF0oUUU\n",
      "5992  spotify:track:7zjEyeBsaw9gV0jofJLfOM\n",
      "5993  spotify:track:7zqiIUt8IEgtxhd8Nqk9O3\n",
      "5994  spotify:track:7zsZL02eXFQM0tLARk4pVg\n",
      "\n",
      "[5995 rows x 1 columns]\n",
      "Fetching audio features for 5995 songs.\n",
      "Song # 0 of 5995\n",
      "<class 'list'>\n",
      "dict_keys(['danceability', 'energy', 'key', 'loudness', 'mode', 'speechiness', 'acousticness', 'instrumentalness', 'liveness', 'valence', 'tempo', 'type', 'id', 'uri', 'track_href', 'analysis_url', 'duration_ms', 'time_signature'])\n",
      "Song # 1 of 5995\n",
      "<class 'list'>\n",
      "dict_keys(['danceability', 'energy', 'key', 'loudness', 'mode', 'speechiness', 'acousticness', 'instrumentalness', 'liveness', 'valence', 'tempo', 'type', 'id', 'uri', 'track_href', 'analysis_url', 'duration_ms', 'time_signature'])\n",
      "Song # 2 of 5995\n",
      "<class 'list'>\n",
      "dict_keys(['danceability', 'energy', 'key', 'loudness', 'mode', 'speechiness', 'acousticness', 'instrumentalness', 'liveness', 'valence', 'tempo', 'type', 'id', 'uri', 'track_href', 'analysis_url', 'duration_ms', 'time_signature'])\n",
      "Song # 3 of 5995\n",
      "<class 'list'>\n",
      "dict_keys(['danceability', 'energy', 'key', 'loudness', 'mode', 'speechiness', 'acousticness', 'instrumentalness', 'liveness', 'valence', 'tempo', 'type', 'id', 'uri', 'track_href', 'analysis_url', 'duration_ms', 'time_signature'])\n",
      "Song # 4 of 5995\n",
      "<class 'list'>\n",
      "dict_keys(['danceability', 'energy', 'key', 'loudness', 'mode', 'speechiness', 'acousticness', 'instrumentalness', 'liveness', 'valence', 'tempo', 'type', 'id', 'uri', 'track_href', 'analysis_url', 'duration_ms', 'time_signature'])\n"
     ]
    },
    {
     "ename": "SystemExit",
     "evalue": "0",
     "output_type": "error",
     "traceback": [
      "An exception has occurred, use %tb to see the full traceback.\n",
      "\u001b[0;31mSystemExit\u001b[0m\u001b[0;31m:\u001b[0m 0\n"
     ]
    },
    {
     "name": "stderr",
     "output_type": "stream",
     "text": [
      "/Library/Frameworks/Python.framework/Versions/3.10/lib/python3.10/site-packages/IPython/core/interactiveshell.py:3386: UserWarning: To exit: use 'exit', 'quit', or Ctrl-D.\n",
      "  warn(\"To exit: use 'exit', 'quit', or Ctrl-D.\", stacklevel=1)\n"
     ]
    }
   ],
   "source": [
    "from utils.spotify import SpotifyWrapper\n",
    "from utils.postgres import Postgres\n",
    "import pandas as pd\n",
    "import time\n",
    "\n",
    "# debugging\n",
    "import sys, json\n",
    "\n",
    "db = Postgres()\n",
    "spot = SpotifyWrapper()\n",
    "\n",
    " # Read from album table in DB\n",
    "song_uris = pd.DataFrame(db.fetch_data(f\"\"\"\n",
    "        SELECT song_uri FROM songs;\n",
    "        \"\"\"), columns = [\"song_uri\"]\n",
    ")\n",
    "\n",
    "def get_song_metrics(uris):\n",
    "    \"\"\"\n",
    "    Retrieves audio features for a list of songs.\n",
    "    \n",
    "    Args:\n",
    "        uris (list): A list of song URIs.\n",
    "    \n",
    "    Returns:\n",
    "        pandas.DataFrame: A DataFrame containing the audio features for each song.\n",
    "    \"\"\"\n",
    "    print(type(uris))\n",
    "    print(uris)\n",
    "    total_songs = len(uris)\n",
    "    print(f\"Fetching audio features for {total_songs} songs.\")\n",
    "\n",
    "    dance, energy, loudness, valence, tempo, instru, speech = ([] for i in range(7))    \n",
    "    columns = [\"dance\", \"energy\", \"loudness\", \"valence\", \"tempo\", \"instru\", \"speech\"]\n",
    "\n",
    "    for count in range(0,5):#total_songs):\n",
    "    # there's gotta be a better way to do this\n",
    "        #if(i%50 == 0):\n",
    "        time.sleep(0.5)\n",
    "        print(\"Song # \"+str(count)+\" of \"+ str(total_songs ))\n",
    "    \n",
    "        uri = uris.iloc[count][\"song_uri\"]\n",
    "\n",
    "        \n",
    "        audio_features = spot.getAudioFeatures(uri)\n",
    "        print(type(audio_features))\n",
    "        print(audio_features[0].keys())\n",
    "        # if not audio_features:\n",
    "        #     print(\"problem detected; manually enter: \" + uri)\n",
    "        #     dance.append(0)\n",
    "        #     energy.append(0)\n",
    "        #     loudness.append(0)\n",
    "        #     valence.append(0)\n",
    "        #     tempo.append(0)\n",
    "        #     instru.append(0)\n",
    "        #     speech.append(0)\n",
    "        # else:\n",
    "        # # add song data to lists of metrics\n",
    "        #     dance.append(audio_features[0]['danceability'])\n",
    "        #     energy.append(audio_features[0]['energy'])\n",
    "        #     loudness.append(audio_features[0]['loudness'])\n",
    "        #     valence.append(audio_features[0]['valence'])\n",
    "        #     tempo.append(audio_features[0]['tempo'])\n",
    "        #     instru.append(audio_features[0]['instrumentalness'])\n",
    "        #     speech.append(audio_features[0]['speechiness'])\n",
    "    sys.exit(0)\n",
    "\n",
    "\n",
    "\n",
    "metrics = get_song_metrics(song_uris)\n",
    "print(metrics)\n"
   ]
  },
  {
   "cell_type": "code",
   "execution_count": 23,
   "metadata": {},
   "outputs": [],
   "source": [
    "db.close()"
   ]
  }
 ],
 "metadata": {
  "kernelspec": {
   "display_name": "Python 3",
   "language": "python",
   "name": "python3"
  },
  "language_info": {
   "codemirror_mode": {
    "name": "ipython",
    "version": 3
   },
   "file_extension": ".py",
   "mimetype": "text/x-python",
   "name": "python",
   "nbconvert_exporter": "python",
   "pygments_lexer": "ipython3",
   "version": "3.10.7"
  },
  "orig_nbformat": 4
 },
 "nbformat": 4,
 "nbformat_minor": 2
}
