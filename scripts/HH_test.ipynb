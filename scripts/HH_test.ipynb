{
 "cells": [
  {
   "cell_type": "code",
   "execution_count": 16,
   "metadata": {},
   "outputs": [
    {
     "name": "stderr",
     "output_type": "stream",
     "text": [
      "2024-01-09 20:34:24,718:INFO - HTTP Request: GET https://snuqfngjrznygycntzst.supabase.co/rest/v1/songs?select=song_name%2C%20metrics%28popularity%29&artist_names=like.%25Kanye%20West%25&order=metrics%28popularity%29.desc&limit=5 \"HTTP/1.1 200 OK\"\n"
     ]
    },
    {
     "name": "stdout",
     "output_type": "stream",
     "text": [
      "90\n"
     ]
    }
   ],
   "source": [
    "from supabase import create_client\n",
    "from utils.env import SUPABASE_URL, SUPABASE_KEY\n",
    "\n",
    "\n",
    "supabase = create_client(SUPABASE_URL, SUPABASE_KEY)\n",
    "\n",
    "def _get_top_songs(artist, number):\n",
    "    filter_response = supabase.table(\"songs\")\\\n",
    "        .select(\"song_name, metrics(popularity)\")\\\n",
    "        .like('artist_names', f'%{artist}%')\\\n",
    "        .order(\"metrics(popularity)\", desc=True)\\\n",
    "        .limit(number)\\\n",
    "        .execute()\n",
    "    return [(x.get('song_name'), x.get('metrics').get('popularity')) for x in filter_response.data]\n"
   ]
  }
 ],
 "metadata": {
  "kernelspec": {
   "display_name": "Python 3",
   "language": "python",
   "name": "python3"
  },
  "language_info": {
   "codemirror_mode": {
    "name": "ipython",
    "version": 3
   },
   "file_extension": ".py",
   "mimetype": "text/x-python",
   "name": "python",
   "nbconvert_exporter": "python",
   "pygments_lexer": "ipython3",
   "version": "3.10.7"
  },
  "orig_nbformat": 4
 },
 "nbformat": 4,
 "nbformat_minor": 2
}
