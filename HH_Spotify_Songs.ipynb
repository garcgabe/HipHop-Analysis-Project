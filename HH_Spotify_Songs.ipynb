{
 "cells": [
  {
   "cell_type": "code",
   "execution_count": 1,
   "metadata": {},
   "outputs": [],
   "source": [
    "import spotipy\n",
    "from spotipy.oauth2 import SpotifyClientCredentials\n",
    "import pandas as pd\n",
    "\n",
    "class spotWrapper():\n",
    "    def __init__(self):\n",
    "        client_id = 'accd0aa479164ddcbf1cbf822512b80b'\n",
    "        client_secret = '58bfc467435045e7b61c86fb03385729'\n",
    "        client_credentials_manager = SpotifyClientCredentials(client_id=client_id, client_secret=client_secret)\n",
    "        self.spot = spotipy.Spotify(client_credentials_manager=client_credentials_manager)\n",
    "    def getAlbumsTracks(self, id):\n",
    "        return self.spot.album_tracks(id)\n",
    "    def getAudioFeatures(self, song_id):\n",
    "        return self.spot.audio_features(song_id)\n",
    "\n"
   ]
  },
  {
   "cell_type": "code",
   "execution_count": 16,
   "metadata": {},
   "outputs": [
    {
     "name": "stdout",
     "output_type": "stream",
     "text": [
      "getting songs for: 405 albums.\n",
      "Album number 0\n",
      "Album number 1\n",
      "Album number 2\n",
      "Album number 3\n",
      "Album number 4\n",
      "Album number 5\n",
      "Album number 6\n",
      "Album number 7\n",
      "Album number 8\n",
      "Album number 9\n",
      "Album number 10\n",
      "Album number 11\n",
      "Album number 12\n",
      "Album number 13\n",
      "Album number 14\n",
      "Album number 15\n",
      "Album number 16\n",
      "Album number 17\n",
      "Album number 18\n",
      "Album number 19\n",
      "Album number 20\n",
      "Album number 21\n",
      "Album number 22\n",
      "Album number 23\n",
      "Album number 24\n",
      "Album number 25\n",
      "Album number 26\n",
      "Album number 27\n",
      "Album number 28\n",
      "Album number 29\n",
      "Album number 30\n"
     ]
    }
   ],
   "source": [
    "spot = spotWrapper()\n",
    "artist_df = pd.read_excel(\"SpotifyArtists.xlsx\")\n",
    "all_artists = artist_df[[\"spotify_name\", \"artist_uri\"]]\n",
    "\n",
    "album_df = pd.read_excel(\"SpotifyAlbums.xlsx\")\n",
    "all_albums = album_df[\"album_uri\"]\n",
    "\n",
    "print(\"getting songs for: \" + str(len(all_albums)) + \" albums.\")\n",
    "song_uri, song_name, album_uri, artist_uris, artist_names= ([] for i in range(5))\n",
    "columns = [\"song_uri\", \"song_name\", \"album_uri\", \"artist_uris\", \"artist_names\", \"explicit\", \"preview_url\"]\n",
    "counter = 0\n",
    "for idx in all_albums:\n",
    "        # search on album URI   \n",
    "    print(\"Album number \"+ str(counter) )\n",
    "    counter+=1\n",
    "    if(counter > 30):\n",
    "        break\n",
    "    album_data = spot.getAlbumsTracks(idx)[\"items\"]\n",
    "    temp_artists, temp_artist_uris = ([] for x in range(2))\n",
    "    number_of_artists = len(album_data[0][\"artists\"])\n",
    "    for num in range(0,number_of_artists):\n",
    "        artist_name_in_list = album_data[0][\"artists\"][num][\"name\"]\n",
    "        try:\n",
    "            artist_uri_in_list = all_artists.loc[all_artists[\"spotify_name\"] == artist_name_in_list, \"artist_uri\"].iloc[0]\n",
    "        except:\n",
    "            artist_uri_in_list = \"0\"\n",
    "        temp_artists.append(artist_name_in_list)\n",
    "        temp_artist_uris.append(artist_uri_in_list)\n",
    "    album_artists = \", \".join(temp_artists)\n",
    "    album_artist_uris = \", \".join(temp_artist_uris)\n",
    "\n",
    "        # populate lists with song data\n",
    "    for song_num in range(0,len(album_data)):  \n",
    "        album_uri.append(idx)  \n",
    "        artist_uris.append(album_artist_uris)\n",
    "        artist_names.append(album_artists)\n",
    "        song_uri.append(album_data[song_num][\"uri\"])\n",
    "        name = album_data[song_num][\"name\"]\n",
    "        song_name.append(name)\n",
    "\n",
    "    # concatenate the lists \n",
    "song_df = pd.concat([pd.Series(song_uri), pd.Series(song_name), pd.Series(album_uri),pd.Series(artist_uris),\n",
    "                                        pd.Series(artist_names)], \n",
    "                                        axis=1, keys=columns)\n",
    "\n"
   ]
  },
  {
   "cell_type": "code",
   "execution_count": 33,
   "metadata": {},
   "outputs": [],
   "source": [
    "spot_audio = spot.getAudioFeatures(\"spotify:track:0anUgBvnA4u5LsHUeLRprc\")\n",
    "\n",
    "        spot_audio = spot.getAudioFeatures(uri)\n",
    "\n",
    "        # add song data to lists of metrics\n",
    "        dance.append(spot_audio[0]['danceability'])\n",
    "        energy.append(spot_audio[0]['energy'])\n",
    "        loudness.append(spot_audio[0]['loudness'])\n",
    "        valence.append(spot_audio[0]['valence'])\n",
    "        tempo.append(spot_audio[0]['tempo'])\n",
    "        instru.append(spot_audio[0]['instrumentalness'])\n",
    "        speech.append(spot_audio[0]['speechiness'])"
   ]
  },
  {
   "cell_type": "code",
   "execution_count": null,
   "metadata": {},
   "outputs": [],
   "source": []
  },
  {
   "cell_type": "code",
   "execution_count": 35,
   "metadata": {},
   "outputs": [
    {
     "data": {
      "text/plain": [
       "[{'danceability': 0.942,\n",
       "  'energy': 0.566,\n",
       "  'key': 11,\n",
       "  'loudness': -4.834,\n",
       "  'mode': 1,\n",
       "  'speechiness': 0.226,\n",
       "  'acousticness': 0.0773,\n",
       "  'instrumentalness': 0,\n",
       "  'liveness': 0.11,\n",
       "  'valence': 0.479,\n",
       "  'tempo': 132.858,\n",
       "  'type': 'audio_features',\n",
       "  'id': '0anUgBvnA4u5LsHUeLRprc',\n",
       "  'uri': 'spotify:track:0anUgBvnA4u5LsHUeLRprc',\n",
       "  'track_href': 'https://api.spotify.com/v1/tracks/0anUgBvnA4u5LsHUeLRprc',\n",
       "  'analysis_url': 'https://api.spotify.com/v1/audio-analysis/0anUgBvnA4u5LsHUeLRprc',\n",
       "  'duration_ms': 189147,\n",
       "  'time_signature': 4}]"
      ]
     },
     "execution_count": 35,
     "metadata": {},
     "output_type": "execute_result"
    }
   ],
   "source": []
  },
  {
   "cell_type": "code",
   "execution_count": null,
   "metadata": {},
   "outputs": [],
   "source": []
  }
 ],
 "metadata": {
  "kernelspec": {
   "display_name": "Python 3",
   "language": "python",
   "name": "python3"
  },
  "language_info": {
   "codemirror_mode": {
    "name": "ipython",
    "version": 3
   },
   "file_extension": ".py",
   "mimetype": "text/x-python",
   "name": "python",
   "nbconvert_exporter": "python",
   "pygments_lexer": "ipython3",
   "version": "3.10.7"
  },
  "orig_nbformat": 4
 },
 "nbformat": 4,
 "nbformat_minor": 2
}
