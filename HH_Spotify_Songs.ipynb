{
 "cells": [
  {
   "cell_type": "code",
   "execution_count": 2,
   "metadata": {},
   "outputs": [],
   "source": [
    "import spotipy\n",
    "from spotipy.oauth2 import SpotifyClientCredentials\n",
    "\n",
    "class spotWrapper():\n",
    "    def __init__(self):\n",
    "        client_id = 'accd0aa479164ddcbf1cbf822512b80b'\n",
    "        client_secret = '58bfc467435045e7b61c86fb03385729'\n",
    "        client_credentials_manager = SpotifyClientCredentials(client_id=client_id, client_secret=client_secret)\n",
    "        self.spot = spotipy.Spotify(client_credentials_manager=client_credentials_manager)\n",
    "    def getAlbumsTracks(self, id):\n",
    "        return self.spot.album_tracks(id)\n",
    "    def getAudioFeatures(self, song_id):\n",
    "        return self.spot.audio_features(song_id)\n",
    "\n"
   ]
  },
  {
   "cell_type": "code",
   "execution_count": 7,
   "metadata": {},
   "outputs": [
    {
     "name": "stdout",
     "output_type": "stream",
     "text": [
      "0\n",
      "Tic Tac\n",
      "1\n",
      "My Legacy\n",
      "2\n",
      "Heart In Pieces\n",
      "3\n",
      "Because of You\n",
      "4\n",
      "Bust a Move\n",
      "5\n",
      "Baby Sasuke\n",
      "6\n",
      "Stripes Like Burberry\n",
      "7\n",
      "Marni On Me\n",
      "8\n",
      "Sleeping On The Floor\n",
      "9\n",
      "Real Baby Pluto\n",
      "10\n",
      "Drankin N Smokin\n",
      "11\n",
      "Million Dollar Play\n",
      "12\n",
      "Plastic\n",
      "13\n",
      "That’s It\n",
      "14\n",
      "Bought A Bad Bitch\n",
      "15\n",
      "Rockstar Chainz\n",
      "16\n",
      "Lullaby\n",
      "17\n",
      "She Never Been To Pluto\n",
      "18\n",
      "Off Dat\n",
      "19\n",
      "I Don’t Wanna Break Up\n",
      "20\n",
      "Bankroll\n",
      "21\n",
      "Moment of Clarity\n",
      "22\n",
      "Patek\n",
      "23\n",
      "Over Your Head\n"
     ]
    }
   ],
   "source": [
    "#alb = spot.getAlbumsTracks(\"spotify:album:3MATDdrpHmQCmuOcozZjDa\")[\"items\"]#[2].keys()\n",
    "spot = spotWrapper()\n",
    "\n",
    "song_id, song_name, artist_uris, artist_names, explicit, preview_url = ([] for i in range(6))\n",
    "        # search on album URI\n",
    "album_uri = \"spotify:album:3aITAVBURujVe8fhI2seeR\"\n",
    "album_data = spot.getAlbumsTracks(album_uri)[\"items\"]       \n",
    "number_of_artists = len(album_data[0][\"artists\"])\n",
    "#print(number_of_artists)\n",
    "#print(album_data.keys())\n",
    "for num in range(0,number_of_artists):\n",
    "    artist_name_in_list = album_data[0][\"artists\"][num][\"name\"]\n",
    "    try:\n",
    "        artist_uri_in_list = all_artists.loc[all_artists[\"spotify_name\"] == artist_name_in_list, \"artist_uri\"].iloc[0]\n",
    "    except:\n",
    "        artist_uri_in_list = \"0\"\n",
    "    artist_uris.append(artist_uri_in_list)\n",
    "    artist_names.append(artist_name_in_list)\n",
    "for i in range(0,len(album_data)):\n",
    "    print(str(i))\n",
    "    print(album_data[i][\"name\"])\n",
    "\n",
    "\n",
    "\n"
   ]
  },
  {
   "cell_type": "code",
   "execution_count": 33,
   "metadata": {},
   "outputs": [],
   "source": [
    "spot_audio = spot.getAudioFeatures(\"spotify:track:0anUgBvnA4u5LsHUeLRprc\")\n",
    "spot_audio2 = spot.getAudioFeatures(\"0anUgBvnA4u5LsHUeLRprc\")\n",
    "\n"
   ]
  },
  {
   "cell_type": "code",
   "execution_count": 34,
   "metadata": {},
   "outputs": [
    {
     "data": {
      "text/plain": [
       "[{'danceability': 0.942,\n",
       "  'energy': 0.566,\n",
       "  'key': 11,\n",
       "  'loudness': -4.834,\n",
       "  'mode': 1,\n",
       "  'speechiness': 0.226,\n",
       "  'acousticness': 0.0773,\n",
       "  'instrumentalness': 0,\n",
       "  'liveness': 0.11,\n",
       "  'valence': 0.479,\n",
       "  'tempo': 132.858,\n",
       "  'type': 'audio_features',\n",
       "  'id': '0anUgBvnA4u5LsHUeLRprc',\n",
       "  'uri': 'spotify:track:0anUgBvnA4u5LsHUeLRprc',\n",
       "  'track_href': 'https://api.spotify.com/v1/tracks/0anUgBvnA4u5LsHUeLRprc',\n",
       "  'analysis_url': 'https://api.spotify.com/v1/audio-analysis/0anUgBvnA4u5LsHUeLRprc',\n",
       "  'duration_ms': 189147,\n",
       "  'time_signature': 4}]"
      ]
     },
     "execution_count": 34,
     "metadata": {},
     "output_type": "execute_result"
    }
   ],
   "source": [
    "spot_audio"
   ]
  },
  {
   "cell_type": "code",
   "execution_count": 35,
   "metadata": {},
   "outputs": [
    {
     "data": {
      "text/plain": [
       "[{'danceability': 0.942,\n",
       "  'energy': 0.566,\n",
       "  'key': 11,\n",
       "  'loudness': -4.834,\n",
       "  'mode': 1,\n",
       "  'speechiness': 0.226,\n",
       "  'acousticness': 0.0773,\n",
       "  'instrumentalness': 0,\n",
       "  'liveness': 0.11,\n",
       "  'valence': 0.479,\n",
       "  'tempo': 132.858,\n",
       "  'type': 'audio_features',\n",
       "  'id': '0anUgBvnA4u5LsHUeLRprc',\n",
       "  'uri': 'spotify:track:0anUgBvnA4u5LsHUeLRprc',\n",
       "  'track_href': 'https://api.spotify.com/v1/tracks/0anUgBvnA4u5LsHUeLRprc',\n",
       "  'analysis_url': 'https://api.spotify.com/v1/audio-analysis/0anUgBvnA4u5LsHUeLRprc',\n",
       "  'duration_ms': 189147,\n",
       "  'time_signature': 4}]"
      ]
     },
     "execution_count": 35,
     "metadata": {},
     "output_type": "execute_result"
    }
   ],
   "source": [
    "spot_audio2"
   ]
  },
  {
   "cell_type": "code",
   "execution_count": null,
   "metadata": {},
   "outputs": [],
   "source": []
  }
 ],
 "metadata": {
  "kernelspec": {
   "display_name": "Python 3",
   "language": "python",
   "name": "python3"
  },
  "language_info": {
   "codemirror_mode": {
    "name": "ipython",
    "version": 3
   },
   "file_extension": ".py",
   "mimetype": "text/x-python",
   "name": "python",
   "nbconvert_exporter": "python",
   "pygments_lexer": "ipython3",
   "version": "3.10.7"
  },
  "orig_nbformat": 4
 },
 "nbformat": 4,
 "nbformat_minor": 2
}
