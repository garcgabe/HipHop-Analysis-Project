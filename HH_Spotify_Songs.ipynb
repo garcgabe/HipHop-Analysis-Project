{
 "cells": [
  {
   "cell_type": "code",
   "execution_count": 9,
   "metadata": {},
   "outputs": [],
   "source": [
    "import spotipy\n",
    "from spotipy.oauth2 import SpotifyClientCredentials\n",
    "import pandas as pd\n",
    "\n",
    "class spotWrapper():\n",
    "    def __init__(self):\n",
    "        client_id = 'accd0aa479164ddcbf1cbf822512b80b'\n",
    "        client_secret = '58bfc467435045e7b61c86fb03385729'\n",
    "        client_credentials_manager = SpotifyClientCredentials(client_id=client_id, client_secret=client_secret)\n",
    "        self.spot = spotipy.Spotify(client_credentials_manager=client_credentials_manager)\n",
    "    def getAlbumsTracks(self, id):\n",
    "        return self.spot.album_tracks(id)\n",
    "    def getAudioFeatures(self, song_id):\n",
    "        return self.spot.audio_features(song_id)\n",
    "\n"
   ]
  },
  {
   "cell_type": "code",
   "execution_count": 12,
   "metadata": {},
   "outputs": [
    {
     "name": "stdout",
     "output_type": "stream",
     "text": [
      "getting songs for: 405 albums.\n",
      "Album number 0\n",
      "Album number 1\n",
      "Album number 2\n",
      "Album number 3\n",
      "Album number 4\n",
      "Album number 5\n"
     ]
    }
   ],
   "source": [
    "spot = spotWrapper()\n",
    "artist_df = pd.read_excel(\"SpotifyArtists.xlsx\")\n",
    "all_artists = artist_df[[\"spotify_name\", \"artist_uri\"]]\n",
    "\n",
    "album_df = pd.read_excel(\"SpotifyAlbums.xlsx\")\n",
    "all_albums = album_df[\"album_uri\"]\n",
    "\n",
    "print(\"getting songs for: \" + str(len(all_albums)) + \" albums.\")\n",
    "song_uri, song_name, album_uri, artist_uris, artist_names, explicit, preview_url = ([] for i in range(7))\n",
    "columns = [\"song_uri\", \"song_name\", \"album_uri\", \"artist_uris\", \"artist_names\", \"explicit\", \"preview_url\"]\n",
    "counter = 0\n",
    "for idx in all_albums:\n",
    "        # search on album URI   \n",
    "    print(\"Album number \"+ str(counter) )\n",
    "    counter+=1\n",
    "    if(counter > 5):\n",
    "        break\n",
    "    album_data = spot.getAlbumsTracks(idx)[\"items\"]\n",
    "    temp_artists, temp_artist_uris = ([] for x in range(2))\n",
    "    number_of_artists = len(album_data[0][\"artists\"])\n",
    "    for num in range(0,number_of_artists):\n",
    "        artist_name_in_list = album_data[0][\"artists\"][num][\"name\"]\n",
    "        try:\n",
    "            artist_uri_in_list = all_artists.loc[all_artists[\"spotify_name\"] == artist_name_in_list, \"artist_uri\"].iloc[0]\n",
    "        except:\n",
    "            artist_uri_in_list = \"0\"\n",
    "        temp_artists.append(artist_name_in_list)\n",
    "        temp_artist_uris.append(artist_uri_in_list)\n",
    "    artist_names.append(\", \".join(all_artists))\n",
    "    artist_uris.append(\", \".join(all_uris))\n",
    "\n",
    "            all_artists, all_uris = ([] for x in range(2))\n",
    "            number_of_artists = len(search_tree_split[\"artists\"])\n",
    "            for artist_num in range(0,number_of_artists):\n",
    "                artist_name_in_list = search_tree_split[\"artists\"][artist_num][\"name\"]\n",
    "                try:\n",
    "                    artist_uri_in_list = spot_artists.loc[spot_artists[\"spotify_name\"] == artist_name_in_list, \"artist_uri\"].iloc[0]\n",
    "                except:\n",
    "                    artist_uri_in_list = \"0\"\n",
    "                all_uris.append(artist_uri_in_list)\n",
    "                all_artists.append(artist_name_in_list)\n",
    "\n",
    "\n",
    "\n",
    "\n"
   ]
  },
  {
   "cell_type": "code",
   "execution_count": 33,
   "metadata": {},
   "outputs": [],
   "source": [
    "spot_audio = spot.getAudioFeatures(\"spotify:track:0anUgBvnA4u5LsHUeLRprc\")\n",
    "spot_audio2 = spot.getAudioFeatures(\"0anUgBvnA4u5LsHUeLRprc\")\n",
    "\n"
   ]
  },
  {
   "cell_type": "code",
   "execution_count": 34,
   "metadata": {},
   "outputs": [
    {
     "data": {
      "text/plain": [
       "[{'danceability': 0.942,\n",
       "  'energy': 0.566,\n",
       "  'key': 11,\n",
       "  'loudness': -4.834,\n",
       "  'mode': 1,\n",
       "  'speechiness': 0.226,\n",
       "  'acousticness': 0.0773,\n",
       "  'instrumentalness': 0,\n",
       "  'liveness': 0.11,\n",
       "  'valence': 0.479,\n",
       "  'tempo': 132.858,\n",
       "  'type': 'audio_features',\n",
       "  'id': '0anUgBvnA4u5LsHUeLRprc',\n",
       "  'uri': 'spotify:track:0anUgBvnA4u5LsHUeLRprc',\n",
       "  'track_href': 'https://api.spotify.com/v1/tracks/0anUgBvnA4u5LsHUeLRprc',\n",
       "  'analysis_url': 'https://api.spotify.com/v1/audio-analysis/0anUgBvnA4u5LsHUeLRprc',\n",
       "  'duration_ms': 189147,\n",
       "  'time_signature': 4}]"
      ]
     },
     "execution_count": 34,
     "metadata": {},
     "output_type": "execute_result"
    }
   ],
   "source": [
    "spot_audio"
   ]
  },
  {
   "cell_type": "code",
   "execution_count": 35,
   "metadata": {},
   "outputs": [
    {
     "data": {
      "text/plain": [
       "[{'danceability': 0.942,\n",
       "  'energy': 0.566,\n",
       "  'key': 11,\n",
       "  'loudness': -4.834,\n",
       "  'mode': 1,\n",
       "  'speechiness': 0.226,\n",
       "  'acousticness': 0.0773,\n",
       "  'instrumentalness': 0,\n",
       "  'liveness': 0.11,\n",
       "  'valence': 0.479,\n",
       "  'tempo': 132.858,\n",
       "  'type': 'audio_features',\n",
       "  'id': '0anUgBvnA4u5LsHUeLRprc',\n",
       "  'uri': 'spotify:track:0anUgBvnA4u5LsHUeLRprc',\n",
       "  'track_href': 'https://api.spotify.com/v1/tracks/0anUgBvnA4u5LsHUeLRprc',\n",
       "  'analysis_url': 'https://api.spotify.com/v1/audio-analysis/0anUgBvnA4u5LsHUeLRprc',\n",
       "  'duration_ms': 189147,\n",
       "  'time_signature': 4}]"
      ]
     },
     "execution_count": 35,
     "metadata": {},
     "output_type": "execute_result"
    }
   ],
   "source": [
    "spot_audio2"
   ]
  },
  {
   "cell_type": "code",
   "execution_count": null,
   "metadata": {},
   "outputs": [],
   "source": []
  }
 ],
 "metadata": {
  "kernelspec": {
   "display_name": "Python 3",
   "language": "python",
   "name": "python3"
  },
  "language_info": {
   "codemirror_mode": {
    "name": "ipython",
    "version": 3
   },
   "file_extension": ".py",
   "mimetype": "text/x-python",
   "name": "python",
   "nbconvert_exporter": "python",
   "pygments_lexer": "ipython3",
   "version": "3.10.7"
  },
  "orig_nbformat": 4
 },
 "nbformat": 4,
 "nbformat_minor": 2
}
