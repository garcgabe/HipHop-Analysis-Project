{
 "cells": [
  {
   "cell_type": "code",
   "execution_count": 1,
   "metadata": {},
   "outputs": [],
   "source": [
    "import spotipy\n",
    "from spotipy.oauth2 import SpotifyClientCredentials\n",
    "import pandas as pd\n",
    "import time, sys\n",
    "\n",
    "class spotWrapper():\n",
    "    def __init__(self):\n",
    "        client_id = 'accd0aa479164ddcbf1cbf822512b80b'\n",
    "        client_secret = '58bfc467435045e7b61c86fb03385729'\n",
    "        client_credentials_manager = SpotifyClientCredentials(client_id=client_id, client_secret=client_secret)\n",
    "        self.spot = spotipy.Spotify(client_credentials_manager=client_credentials_manager)\n",
    "    def getAlbumsTracks(self, id):\n",
    "        return self.spot.album_tracks(id)\n",
    "    def getAudioFeatures(self, song_id):\n",
    "        return self.spot.audio_features(song_id)\n",
    "\n"
   ]
  },
  {
   "cell_type": "code",
   "execution_count": 2,
   "metadata": {},
   "outputs": [
    {
     "name": "stdout",
     "output_type": "stream",
     "text": [
      "getting songs for: 508 albums.\n"
     ]
    },
    {
     "name": "stderr",
     "output_type": "stream",
     "text": [
      "Max Retries reached\n",
      "\n",
      "KeyboardInterrupt\n",
      "\n"
     ]
    }
   ],
   "source": [
    "spot = spotWrapper()\n",
    "artist_df = pd.read_excel(\"SpotifyArtists.xlsx\")\n",
    "all_artists = artist_df[[\"spotify_name\", \"artist_uri\"]]\n",
    "\n",
    "album_df = pd.read_excel(\"SpotifyAlbums.xlsx\")\n",
    "all_albums = album_df[\"album_uri\"]\n",
    "\n",
    "print(\"getting songs for: \" + str(len(all_albums)) + \" albums.\")\n",
    "song_uri, song_name, album_uri, artist_uris, artist_names= ([] for i in range(5))\n",
    "columns = [\"song_uri\", \"song_name\", \"album_uri\", \"artist_uris\", \"artist_names\", \"explicit\", \"preview_url\"]\n",
    "counter = 0\n",
    "for idx in all_albums:\n",
    "        # search on album URI   \n",
    "    #print(\"Album number \"+ str(counter) )\n",
    "    counter+=1\n",
    "    if(counter > 30):\n",
    "        break\n",
    "    album_data = spot.getAlbumsTracks(idx)[\"items\"]\n",
    "    temp_artists, temp_artist_uris = ([] for x in range(2))\n",
    "    number_of_artists = len(album_data[0][\"artists\"])\n",
    "    for num in range(0,number_of_artists):\n",
    "        artist_name_in_list = album_data[0][\"artists\"][num][\"name\"]\n",
    "        try:\n",
    "            artist_uri_in_list = all_artists.loc[all_artists[\"spotify_name\"] == artist_name_in_list, \"artist_uri\"].iloc[0]\n",
    "        except:\n",
    "            artist_uri_in_list = \"0\"\n",
    "        temp_artists.append(artist_name_in_list)\n",
    "        temp_artist_uris.append(artist_uri_in_list)\n",
    "    album_artists = \", \".join(temp_artists)\n",
    "    album_artist_uris = \", \".join(temp_artist_uris)\n",
    "\n",
    "        # populate lists with song data\n",
    "    for song_num in range(0,len(album_data)):  \n",
    "        album_uri.append(idx)  \n",
    "        artist_uris.append(album_artist_uris)\n",
    "        artist_names.append(album_artists)\n",
    "        song_uri.append(album_data[song_num][\"uri\"])\n",
    "        name = album_data[song_num][\"name\"]\n",
    "        song_name.append(name)\n",
    "\n",
    "    # concatenate the lists \n",
    "song_df = pd.concat([pd.Series(song_uri), pd.Series(song_name), pd.Series(album_uri),pd.Series(artist_uris),\n",
    "                                        pd.Series(artist_names)], \n",
    "                                        axis=1, keys=columns)\n",
    "#print(song_df)\n",
    "dance, energy, loudness, valence, tempo, instru, speech = ([] for i in range(7))\n",
    "for i in range(0,len(song_df)):\n",
    "    #print(i)\n",
    "    uri = song_df[\"song_uri\"][i]\n",
    "    spot_audio = spot.getAudioFeatures(uri)\n",
    "\n",
    "        # add song data to lists of metrics\n",
    "    dance.append(spot_audio[0]['danceability'])\n",
    "    energy.append(spot_audio[0]['energy'])\n",
    "    loudness.append(spot_audio[0]['loudness'])\n",
    "    valence.append(spot_audio[0]['valence'])\n",
    "    tempo.append(spot_audio[0]['tempo'])\n",
    "    instru.append(spot_audio[0]['instrumentalness'])\n",
    "    speech.append(spot_audio[0]['speechiness'])\n",
    "interm = pd.concat([song_df, pd.Series(dance), pd.Series(energy), pd.Series(loudness),pd.Series(valence),\n",
    "                                        pd.Series(tempo), pd.Series(instru), pd.Series(speech)], \n",
    "                                        axis=1)\n"
   ]
  },
  {
   "cell_type": "code",
   "execution_count": 10,
   "metadata": {},
   "outputs": [],
   "source": [
    "\n",
    "def get_song_metrics(df):\n",
    "    spot = spotWrapper()\n",
    "    dance, energy, loudness, valence, tempo, instru, speech = ([] for i in range(7))\n",
    "    all_uris = df[\"song_uri\"]\n",
    "    length = len(all_uris)\n",
    "    for i in range(0,length-6700):\n",
    "        print(i)\n",
    "        time.sleep(0.5)\n",
    "        if(i%50 == 0):\n",
    "            time.sleep(0.5)\n",
    "            print(\"Song # \"+str(i)+\" of \"+ str(length ))\n",
    "        uri = all_uris[i]\n",
    "        print(uri)\n",
    "        spot_audio = spot.getAudioFeatures(uri)\n",
    "        print(spot_audio)\n",
    "        #if(spot_audio == None):\n",
    "            #print(\"problem detected: \" + uri)\n",
    "            #dance.append(0)\n",
    "            #energy.append(0)\n",
    "     #       loudness.append(0)\n",
    "      #      valence.append(0)\n",
    "       #     tempo.append(0)\n",
    "        #    instru.append(0)\n",
    "        #    speech.append(0)\n",
    "    #    else:\n",
    "        # add song data to lists of metrics\n",
    "     #       dance.append(spot_audio[0]['danceability'])\n",
    "      #      energy.append(spot_audio[0]['energy'])\n",
    "       #     loudness.append(spot_audio[0]['loudness'])\n",
    "        #    valence.append(spot_audio[0]['valence'])\n",
    "         #   tempo.append(spot_audio[0]['tempo'])\n",
    "          #  instru.append(spot_audio[0]['instrumentalness'])\n",
    "           # speech.append(spot_audio[0]['speechiness'])\n",
    "    #return pd.concat([df, pd.Series(dance), pd.Series(energy), pd.Series(loudness),pd.Series(valence),\n",
    "     #                                   pd.Series(tempo), pd.Series(instru), pd.Series(speech)], \n",
    "      #                                  axis=1)\n",
    "\n",
    "\n"
   ]
  },
  {
   "cell_type": "code",
   "execution_count": 11,
   "metadata": {},
   "outputs": [
    {
     "name": "stdout",
     "output_type": "stream",
     "text": [
      "0\n",
      "Song # 0 of 8628\n",
      "spotify:track:57q6BgYP4gN6hPQViCB3um\n"
     ]
    },
    {
     "name": "stderr",
     "output_type": "stream",
     "text": [
      "Max Retries reached\n"
     ]
    },
    {
     "ename": "SpotifyException",
     "evalue": "http status: 429, code:-1 - /v1/audio-features/?ids=57q6BgYP4gN6hPQViCB3um:\n Max Retries, reason: too many 429 error responses",
     "output_type": "error",
     "traceback": [
      "\u001b[0;31m---------------------------------------------------------------------------\u001b[0m",
      "\u001b[0;31mMaxRetryError\u001b[0m                             Traceback (most recent call last)",
      "File \u001b[0;32m/Library/Frameworks/Python.framework/Versions/3.10/lib/python3.10/site-packages/requests/adapters.py:489\u001b[0m, in \u001b[0;36mHTTPAdapter.send\u001b[0;34m(self, request, stream, timeout, verify, cert, proxies)\u001b[0m\n\u001b[1;32m    488\u001b[0m \u001b[39mif\u001b[39;00m \u001b[39mnot\u001b[39;00m chunked:\n\u001b[0;32m--> 489\u001b[0m     resp \u001b[39m=\u001b[39m conn\u001b[39m.\u001b[39;49murlopen(\n\u001b[1;32m    490\u001b[0m         method\u001b[39m=\u001b[39;49mrequest\u001b[39m.\u001b[39;49mmethod,\n\u001b[1;32m    491\u001b[0m         url\u001b[39m=\u001b[39;49murl,\n\u001b[1;32m    492\u001b[0m         body\u001b[39m=\u001b[39;49mrequest\u001b[39m.\u001b[39;49mbody,\n\u001b[1;32m    493\u001b[0m         headers\u001b[39m=\u001b[39;49mrequest\u001b[39m.\u001b[39;49mheaders,\n\u001b[1;32m    494\u001b[0m         redirect\u001b[39m=\u001b[39;49m\u001b[39mFalse\u001b[39;49;00m,\n\u001b[1;32m    495\u001b[0m         assert_same_host\u001b[39m=\u001b[39;49m\u001b[39mFalse\u001b[39;49;00m,\n\u001b[1;32m    496\u001b[0m         preload_content\u001b[39m=\u001b[39;49m\u001b[39mFalse\u001b[39;49;00m,\n\u001b[1;32m    497\u001b[0m         decode_content\u001b[39m=\u001b[39;49m\u001b[39mFalse\u001b[39;49;00m,\n\u001b[1;32m    498\u001b[0m         retries\u001b[39m=\u001b[39;49m\u001b[39mself\u001b[39;49m\u001b[39m.\u001b[39;49mmax_retries,\n\u001b[1;32m    499\u001b[0m         timeout\u001b[39m=\u001b[39;49mtimeout,\n\u001b[1;32m    500\u001b[0m     )\n\u001b[1;32m    502\u001b[0m \u001b[39m# Send the request.\u001b[39;00m\n\u001b[1;32m    503\u001b[0m \u001b[39melse\u001b[39;00m:\n",
      "File \u001b[0;32m/Library/Frameworks/Python.framework/Versions/3.10/lib/python3.10/site-packages/urllib3/connectionpool.py:878\u001b[0m, in \u001b[0;36mHTTPConnectionPool.urlopen\u001b[0;34m(self, method, url, body, headers, retries, redirect, assert_same_host, timeout, pool_timeout, release_conn, chunked, body_pos, **response_kw)\u001b[0m\n\u001b[1;32m    877\u001b[0m     log\u001b[39m.\u001b[39mdebug(\u001b[39m\"\u001b[39m\u001b[39mRetry: \u001b[39m\u001b[39m%s\u001b[39;00m\u001b[39m\"\u001b[39m, url)\n\u001b[0;32m--> 878\u001b[0m     \u001b[39mreturn\u001b[39;00m \u001b[39mself\u001b[39;49m\u001b[39m.\u001b[39;49murlopen(\n\u001b[1;32m    879\u001b[0m         method,\n\u001b[1;32m    880\u001b[0m         url,\n\u001b[1;32m    881\u001b[0m         body,\n\u001b[1;32m    882\u001b[0m         headers,\n\u001b[1;32m    883\u001b[0m         retries\u001b[39m=\u001b[39;49mretries,\n\u001b[1;32m    884\u001b[0m         redirect\u001b[39m=\u001b[39;49mredirect,\n\u001b[1;32m    885\u001b[0m         assert_same_host\u001b[39m=\u001b[39;49massert_same_host,\n\u001b[1;32m    886\u001b[0m         timeout\u001b[39m=\u001b[39;49mtimeout,\n\u001b[1;32m    887\u001b[0m         pool_timeout\u001b[39m=\u001b[39;49mpool_timeout,\n\u001b[1;32m    888\u001b[0m         release_conn\u001b[39m=\u001b[39;49mrelease_conn,\n\u001b[1;32m    889\u001b[0m         chunked\u001b[39m=\u001b[39;49mchunked,\n\u001b[1;32m    890\u001b[0m         body_pos\u001b[39m=\u001b[39;49mbody_pos,\n\u001b[1;32m    891\u001b[0m         \u001b[39m*\u001b[39;49m\u001b[39m*\u001b[39;49mresponse_kw\n\u001b[1;32m    892\u001b[0m     )\n\u001b[1;32m    894\u001b[0m \u001b[39mreturn\u001b[39;00m response\n",
      "File \u001b[0;32m/Library/Frameworks/Python.framework/Versions/3.10/lib/python3.10/site-packages/urllib3/connectionpool.py:878\u001b[0m, in \u001b[0;36mHTTPConnectionPool.urlopen\u001b[0;34m(self, method, url, body, headers, retries, redirect, assert_same_host, timeout, pool_timeout, release_conn, chunked, body_pos, **response_kw)\u001b[0m\n\u001b[1;32m    877\u001b[0m     log\u001b[39m.\u001b[39mdebug(\u001b[39m\"\u001b[39m\u001b[39mRetry: \u001b[39m\u001b[39m%s\u001b[39;00m\u001b[39m\"\u001b[39m, url)\n\u001b[0;32m--> 878\u001b[0m     \u001b[39mreturn\u001b[39;00m \u001b[39mself\u001b[39;49m\u001b[39m.\u001b[39;49murlopen(\n\u001b[1;32m    879\u001b[0m         method,\n\u001b[1;32m    880\u001b[0m         url,\n\u001b[1;32m    881\u001b[0m         body,\n\u001b[1;32m    882\u001b[0m         headers,\n\u001b[1;32m    883\u001b[0m         retries\u001b[39m=\u001b[39;49mretries,\n\u001b[1;32m    884\u001b[0m         redirect\u001b[39m=\u001b[39;49mredirect,\n\u001b[1;32m    885\u001b[0m         assert_same_host\u001b[39m=\u001b[39;49massert_same_host,\n\u001b[1;32m    886\u001b[0m         timeout\u001b[39m=\u001b[39;49mtimeout,\n\u001b[1;32m    887\u001b[0m         pool_timeout\u001b[39m=\u001b[39;49mpool_timeout,\n\u001b[1;32m    888\u001b[0m         release_conn\u001b[39m=\u001b[39;49mrelease_conn,\n\u001b[1;32m    889\u001b[0m         chunked\u001b[39m=\u001b[39;49mchunked,\n\u001b[1;32m    890\u001b[0m         body_pos\u001b[39m=\u001b[39;49mbody_pos,\n\u001b[1;32m    891\u001b[0m         \u001b[39m*\u001b[39;49m\u001b[39m*\u001b[39;49mresponse_kw\n\u001b[1;32m    892\u001b[0m     )\n\u001b[1;32m    894\u001b[0m \u001b[39mreturn\u001b[39;00m response\n",
      "File \u001b[0;32m/Library/Frameworks/Python.framework/Versions/3.10/lib/python3.10/site-packages/urllib3/connectionpool.py:878\u001b[0m, in \u001b[0;36mHTTPConnectionPool.urlopen\u001b[0;34m(self, method, url, body, headers, retries, redirect, assert_same_host, timeout, pool_timeout, release_conn, chunked, body_pos, **response_kw)\u001b[0m\n\u001b[1;32m    877\u001b[0m     log\u001b[39m.\u001b[39mdebug(\u001b[39m\"\u001b[39m\u001b[39mRetry: \u001b[39m\u001b[39m%s\u001b[39;00m\u001b[39m\"\u001b[39m, url)\n\u001b[0;32m--> 878\u001b[0m     \u001b[39mreturn\u001b[39;00m \u001b[39mself\u001b[39;49m\u001b[39m.\u001b[39;49murlopen(\n\u001b[1;32m    879\u001b[0m         method,\n\u001b[1;32m    880\u001b[0m         url,\n\u001b[1;32m    881\u001b[0m         body,\n\u001b[1;32m    882\u001b[0m         headers,\n\u001b[1;32m    883\u001b[0m         retries\u001b[39m=\u001b[39;49mretries,\n\u001b[1;32m    884\u001b[0m         redirect\u001b[39m=\u001b[39;49mredirect,\n\u001b[1;32m    885\u001b[0m         assert_same_host\u001b[39m=\u001b[39;49massert_same_host,\n\u001b[1;32m    886\u001b[0m         timeout\u001b[39m=\u001b[39;49mtimeout,\n\u001b[1;32m    887\u001b[0m         pool_timeout\u001b[39m=\u001b[39;49mpool_timeout,\n\u001b[1;32m    888\u001b[0m         release_conn\u001b[39m=\u001b[39;49mrelease_conn,\n\u001b[1;32m    889\u001b[0m         chunked\u001b[39m=\u001b[39;49mchunked,\n\u001b[1;32m    890\u001b[0m         body_pos\u001b[39m=\u001b[39;49mbody_pos,\n\u001b[1;32m    891\u001b[0m         \u001b[39m*\u001b[39;49m\u001b[39m*\u001b[39;49mresponse_kw\n\u001b[1;32m    892\u001b[0m     )\n\u001b[1;32m    894\u001b[0m \u001b[39mreturn\u001b[39;00m response\n",
      "File \u001b[0;32m/Library/Frameworks/Python.framework/Versions/3.10/lib/python3.10/site-packages/urllib3/connectionpool.py:868\u001b[0m, in \u001b[0;36mHTTPConnectionPool.urlopen\u001b[0;34m(self, method, url, body, headers, retries, redirect, assert_same_host, timeout, pool_timeout, release_conn, chunked, body_pos, **response_kw)\u001b[0m\n\u001b[1;32m    867\u001b[0m \u001b[39mtry\u001b[39;00m:\n\u001b[0;32m--> 868\u001b[0m     retries \u001b[39m=\u001b[39m retries\u001b[39m.\u001b[39;49mincrement(method, url, response\u001b[39m=\u001b[39;49mresponse, _pool\u001b[39m=\u001b[39;49m\u001b[39mself\u001b[39;49m)\n\u001b[1;32m    869\u001b[0m \u001b[39mexcept\u001b[39;00m MaxRetryError:\n",
      "File \u001b[0;32m/Library/Frameworks/Python.framework/Versions/3.10/lib/python3.10/site-packages/urllib3/util/retry.py:592\u001b[0m, in \u001b[0;36mRetry.increment\u001b[0;34m(self, method, url, response, error, _pool, _stacktrace)\u001b[0m\n\u001b[1;32m    591\u001b[0m \u001b[39mif\u001b[39;00m new_retry\u001b[39m.\u001b[39mis_exhausted():\n\u001b[0;32m--> 592\u001b[0m     \u001b[39mraise\u001b[39;00m MaxRetryError(_pool, url, error \u001b[39mor\u001b[39;00m ResponseError(cause))\n\u001b[1;32m    594\u001b[0m log\u001b[39m.\u001b[39mdebug(\u001b[39m\"\u001b[39m\u001b[39mIncremented Retry for (url=\u001b[39m\u001b[39m'\u001b[39m\u001b[39m%s\u001b[39;00m\u001b[39m'\u001b[39m\u001b[39m): \u001b[39m\u001b[39m%r\u001b[39;00m\u001b[39m\"\u001b[39m, url, new_retry)\n",
      "\u001b[0;31mMaxRetryError\u001b[0m: HTTPSConnectionPool(host='api.spotify.com', port=443): Max retries exceeded with url: /v1/audio-features/?ids=57q6BgYP4gN6hPQViCB3um (Caused by ResponseError('too many 429 error responses'))",
      "\nDuring handling of the above exception, another exception occurred:\n",
      "\u001b[0;31mRetryError\u001b[0m                                Traceback (most recent call last)",
      "File \u001b[0;32m/Library/Frameworks/Python.framework/Versions/3.10/lib/python3.10/site-packages/spotipy/client.py:240\u001b[0m, in \u001b[0;36mSpotify._internal_call\u001b[0;34m(self, method, url, payload, params)\u001b[0m\n\u001b[1;32m    239\u001b[0m \u001b[39mtry\u001b[39;00m:\n\u001b[0;32m--> 240\u001b[0m     response \u001b[39m=\u001b[39m \u001b[39mself\u001b[39;49m\u001b[39m.\u001b[39;49m_session\u001b[39m.\u001b[39;49mrequest(\n\u001b[1;32m    241\u001b[0m         method, url, headers\u001b[39m=\u001b[39;49mheaders, proxies\u001b[39m=\u001b[39;49m\u001b[39mself\u001b[39;49m\u001b[39m.\u001b[39;49mproxies,\n\u001b[1;32m    242\u001b[0m         timeout\u001b[39m=\u001b[39;49m\u001b[39mself\u001b[39;49m\u001b[39m.\u001b[39;49mrequests_timeout, \u001b[39m*\u001b[39;49m\u001b[39m*\u001b[39;49margs\n\u001b[1;32m    243\u001b[0m     )\n\u001b[1;32m    245\u001b[0m     response\u001b[39m.\u001b[39mraise_for_status()\n",
      "File \u001b[0;32m/Library/Frameworks/Python.framework/Versions/3.10/lib/python3.10/site-packages/requests/sessions.py:587\u001b[0m, in \u001b[0;36mSession.request\u001b[0;34m(self, method, url, params, data, headers, cookies, files, auth, timeout, allow_redirects, proxies, hooks, stream, verify, cert, json)\u001b[0m\n\u001b[1;32m    586\u001b[0m send_kwargs\u001b[39m.\u001b[39mupdate(settings)\n\u001b[0;32m--> 587\u001b[0m resp \u001b[39m=\u001b[39m \u001b[39mself\u001b[39;49m\u001b[39m.\u001b[39;49msend(prep, \u001b[39m*\u001b[39;49m\u001b[39m*\u001b[39;49msend_kwargs)\n\u001b[1;32m    589\u001b[0m \u001b[39mreturn\u001b[39;00m resp\n",
      "File \u001b[0;32m/Library/Frameworks/Python.framework/Versions/3.10/lib/python3.10/site-packages/requests/sessions.py:701\u001b[0m, in \u001b[0;36mSession.send\u001b[0;34m(self, request, **kwargs)\u001b[0m\n\u001b[1;32m    700\u001b[0m \u001b[39m# Send the request\u001b[39;00m\n\u001b[0;32m--> 701\u001b[0m r \u001b[39m=\u001b[39m adapter\u001b[39m.\u001b[39;49msend(request, \u001b[39m*\u001b[39;49m\u001b[39m*\u001b[39;49mkwargs)\n\u001b[1;32m    703\u001b[0m \u001b[39m# Total elapsed time of the request (approximately)\u001b[39;00m\n",
      "File \u001b[0;32m/Library/Frameworks/Python.framework/Versions/3.10/lib/python3.10/site-packages/requests/adapters.py:556\u001b[0m, in \u001b[0;36mHTTPAdapter.send\u001b[0;34m(self, request, stream, timeout, verify, cert, proxies)\u001b[0m\n\u001b[1;32m    555\u001b[0m \u001b[39mif\u001b[39;00m \u001b[39misinstance\u001b[39m(e\u001b[39m.\u001b[39mreason, ResponseError):\n\u001b[0;32m--> 556\u001b[0m     \u001b[39mraise\u001b[39;00m RetryError(e, request\u001b[39m=\u001b[39mrequest)\n\u001b[1;32m    558\u001b[0m \u001b[39mif\u001b[39;00m \u001b[39misinstance\u001b[39m(e\u001b[39m.\u001b[39mreason, _ProxyError):\n",
      "\u001b[0;31mRetryError\u001b[0m: HTTPSConnectionPool(host='api.spotify.com', port=443): Max retries exceeded with url: /v1/audio-features/?ids=57q6BgYP4gN6hPQViCB3um (Caused by ResponseError('too many 429 error responses'))",
      "\nDuring handling of the above exception, another exception occurred:\n",
      "\u001b[0;31mSpotifyException\u001b[0m                          Traceback (most recent call last)",
      "\u001b[1;32m/Users/garcgabe/Desktop/HipHop-Analysis-Project/HH_Spotify_Songs.ipynb Cell 4\u001b[0m in \u001b[0;36m2\n\u001b[1;32m      <a href='vscode-notebook-cell:/Users/garcgabe/Desktop/HipHop-Analysis-Project/HH_Spotify_Songs.ipynb#W3sZmlsZQ%3D%3D?line=0'>1</a>\u001b[0m main \u001b[39m=\u001b[39m pd\u001b[39m.\u001b[39mread_excel(\u001b[39m\"\u001b[39m\u001b[39mSpotifySongs.xlsx\u001b[39m\u001b[39m\"\u001b[39m)\n\u001b[0;32m----> <a href='vscode-notebook-cell:/Users/garcgabe/Desktop/HipHop-Analysis-Project/HH_Spotify_Songs.ipynb#W3sZmlsZQ%3D%3D?line=1'>2</a>\u001b[0m with_metrics \u001b[39m=\u001b[39m get_song_metrics(main)\n\u001b[1;32m      <a href='vscode-notebook-cell:/Users/garcgabe/Desktop/HipHop-Analysis-Project/HH_Spotify_Songs.ipynb#W3sZmlsZQ%3D%3D?line=2'>3</a>\u001b[0m \u001b[39mprint\u001b[39m(with_metrics)\n",
      "\u001b[1;32m/Users/garcgabe/Desktop/HipHop-Analysis-Project/HH_Spotify_Songs.ipynb Cell 4\u001b[0m in \u001b[0;36m1\n\u001b[1;32m     <a href='vscode-notebook-cell:/Users/garcgabe/Desktop/HipHop-Analysis-Project/HH_Spotify_Songs.ipynb#W3sZmlsZQ%3D%3D?line=11'>12</a>\u001b[0m uri \u001b[39m=\u001b[39m all_uris[i]\n\u001b[1;32m     <a href='vscode-notebook-cell:/Users/garcgabe/Desktop/HipHop-Analysis-Project/HH_Spotify_Songs.ipynb#W3sZmlsZQ%3D%3D?line=12'>13</a>\u001b[0m \u001b[39mprint\u001b[39m(uri)\n\u001b[0;32m---> <a href='vscode-notebook-cell:/Users/garcgabe/Desktop/HipHop-Analysis-Project/HH_Spotify_Songs.ipynb#W3sZmlsZQ%3D%3D?line=13'>14</a>\u001b[0m spot_audio \u001b[39m=\u001b[39m spot\u001b[39m.\u001b[39;49mgetAudioFeatures(uri)\n\u001b[1;32m     <a href='vscode-notebook-cell:/Users/garcgabe/Desktop/HipHop-Analysis-Project/HH_Spotify_Songs.ipynb#W3sZmlsZQ%3D%3D?line=14'>15</a>\u001b[0m \u001b[39mprint\u001b[39m(spot_audio)\n",
      "\u001b[1;32m/Users/garcgabe/Desktop/HipHop-Analysis-Project/HH_Spotify_Songs.ipynb Cell 4\u001b[0m in \u001b[0;36m1\n\u001b[1;32m     <a href='vscode-notebook-cell:/Users/garcgabe/Desktop/HipHop-Analysis-Project/HH_Spotify_Songs.ipynb#W3sZmlsZQ%3D%3D?line=13'>14</a>\u001b[0m \u001b[39mdef\u001b[39;00m \u001b[39mgetAudioFeatures\u001b[39m(\u001b[39mself\u001b[39m, song_id):\n\u001b[0;32m---> <a href='vscode-notebook-cell:/Users/garcgabe/Desktop/HipHop-Analysis-Project/HH_Spotify_Songs.ipynb#W3sZmlsZQ%3D%3D?line=14'>15</a>\u001b[0m     \u001b[39mreturn\u001b[39;00m \u001b[39mself\u001b[39;49m\u001b[39m.\u001b[39;49mspot\u001b[39m.\u001b[39;49maudio_features(song_id)\n",
      "File \u001b[0;32m/Library/Frameworks/Python.framework/Versions/3.10/lib/python3.10/site-packages/spotipy/client.py:1680\u001b[0m, in \u001b[0;36mSpotify.audio_features\u001b[0;34m(self, tracks)\u001b[0m\n\u001b[1;32m   1678\u001b[0m \u001b[39mif\u001b[39;00m \u001b[39misinstance\u001b[39m(tracks, \u001b[39mstr\u001b[39m):\n\u001b[1;32m   1679\u001b[0m     trackid \u001b[39m=\u001b[39m \u001b[39mself\u001b[39m\u001b[39m.\u001b[39m_get_id(\u001b[39m\"\u001b[39m\u001b[39mtrack\u001b[39m\u001b[39m\"\u001b[39m, tracks)\n\u001b[0;32m-> 1680\u001b[0m     results \u001b[39m=\u001b[39m \u001b[39mself\u001b[39;49m\u001b[39m.\u001b[39;49m_get(\u001b[39m\"\u001b[39;49m\u001b[39maudio-features/?ids=\u001b[39;49m\u001b[39m\"\u001b[39;49m \u001b[39m+\u001b[39;49m trackid)\n\u001b[1;32m   1681\u001b[0m \u001b[39melse\u001b[39;00m:\n\u001b[1;32m   1682\u001b[0m     tlist \u001b[39m=\u001b[39m [\u001b[39mself\u001b[39m\u001b[39m.\u001b[39m_get_id(\u001b[39m\"\u001b[39m\u001b[39mtrack\u001b[39m\u001b[39m\"\u001b[39m, t) \u001b[39mfor\u001b[39;00m t \u001b[39min\u001b[39;00m tracks]\n",
      "File \u001b[0;32m/Library/Frameworks/Python.framework/Versions/3.10/lib/python3.10/site-packages/spotipy/client.py:297\u001b[0m, in \u001b[0;36mSpotify._get\u001b[0;34m(self, url, args, payload, **kwargs)\u001b[0m\n\u001b[1;32m    294\u001b[0m \u001b[39mif\u001b[39;00m args:\n\u001b[1;32m    295\u001b[0m     kwargs\u001b[39m.\u001b[39mupdate(args)\n\u001b[0;32m--> 297\u001b[0m \u001b[39mreturn\u001b[39;00m \u001b[39mself\u001b[39;49m\u001b[39m.\u001b[39;49m_internal_call(\u001b[39m\"\u001b[39;49m\u001b[39mGET\u001b[39;49m\u001b[39m\"\u001b[39;49m, url, payload, kwargs)\n",
      "File \u001b[0;32m/Library/Frameworks/Python.framework/Versions/3.10/lib/python3.10/site-packages/spotipy/client.py:281\u001b[0m, in \u001b[0;36mSpotify._internal_call\u001b[0;34m(self, method, url, payload, params)\u001b[0m\n\u001b[1;32m    279\u001b[0m     \u001b[39mexcept\u001b[39;00m (\u001b[39mIndexError\u001b[39;00m, \u001b[39mAttributeError\u001b[39;00m):\n\u001b[1;32m    280\u001b[0m         reason \u001b[39m=\u001b[39m \u001b[39mNone\u001b[39;00m\n\u001b[0;32m--> 281\u001b[0m     \u001b[39mraise\u001b[39;00m SpotifyException(\n\u001b[1;32m    282\u001b[0m         \u001b[39m429\u001b[39m,\n\u001b[1;32m    283\u001b[0m         \u001b[39m-\u001b[39m\u001b[39m1\u001b[39m,\n\u001b[1;32m    284\u001b[0m         \u001b[39m\"\u001b[39m\u001b[39m%s\u001b[39;00m\u001b[39m:\u001b[39m\u001b[39m\\n\u001b[39;00m\u001b[39m \u001b[39m\u001b[39m%s\u001b[39;00m\u001b[39m\"\u001b[39m \u001b[39m%\u001b[39m (request\u001b[39m.\u001b[39mpath_url, \u001b[39m\"\u001b[39m\u001b[39mMax Retries\u001b[39m\u001b[39m\"\u001b[39m),\n\u001b[1;32m    285\u001b[0m         reason\u001b[39m=\u001b[39mreason\n\u001b[1;32m    286\u001b[0m     )\n\u001b[1;32m    287\u001b[0m \u001b[39mexcept\u001b[39;00m \u001b[39mValueError\u001b[39;00m:\n\u001b[1;32m    288\u001b[0m     results \u001b[39m=\u001b[39m \u001b[39mNone\u001b[39;00m\n",
      "\u001b[0;31mSpotifyException\u001b[0m: http status: 429, code:-1 - /v1/audio-features/?ids=57q6BgYP4gN6hPQViCB3um:\n Max Retries, reason: too many 429 error responses"
     ]
    }
   ],
   "source": [
    "main = pd.read_excel(\"SpotifySongs.xlsx\")\n",
    "with_metrics = get_song_metrics(main)\n",
    "print(with_metrics)"
   ]
  },
  {
   "cell_type": "code",
   "execution_count": 5,
   "metadata": {},
   "outputs": [
    {
     "data": {
      "text/plain": [
       "0       spotify:track:57q6BgYP4gN6hPQViCB3um\n",
       "1       spotify:track:3oHkMCVJyOcjg5FhfLc2Rq\n",
       "2       spotify:track:52eYVUkFTOVozbVFIaFrnV\n",
       "3       spotify:track:1AqemxWsT0iGg5Lvkm16Bt\n",
       "4       spotify:track:7ycWLEP1GsNjVvcjawXz3z\n",
       "                        ...                 \n",
       "8623    spotify:track:1u3hwQVMWxZUVR56sZg1Sk\n",
       "8624    spotify:track:4HppSdg3ZOAyQR9ZKqNNwg\n",
       "8625    spotify:track:4zPrRIdH6oN7eArKvo8iV0\n",
       "8626    spotify:track:0LBGINk4SrnjYKPCuQu3jU\n",
       "8627    spotify:track:56KPYkBUA0GWxUQwMTJlNU\n",
       "Name: song_uri, Length: 8628, dtype: object"
      ]
     },
     "execution_count": 5,
     "metadata": {},
     "output_type": "execute_result"
    }
   ],
   "source": [
    "main[\"song_uri\"]"
   ]
  },
  {
   "cell_type": "code",
   "execution_count": null,
   "metadata": {},
   "outputs": [],
   "source": []
  }
 ],
 "metadata": {
  "kernelspec": {
   "display_name": "Python 3",
   "language": "python",
   "name": "python3"
  },
  "language_info": {
   "codemirror_mode": {
    "name": "ipython",
    "version": 3
   },
   "file_extension": ".py",
   "mimetype": "text/x-python",
   "name": "python",
   "nbconvert_exporter": "python",
   "pygments_lexer": "ipython3",
   "version": "3.10.7"
  },
  "orig_nbformat": 4
 },
 "nbformat": 4,
 "nbformat_minor": 2
}
