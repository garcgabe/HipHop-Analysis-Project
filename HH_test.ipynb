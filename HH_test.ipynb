{
 "cells": [
  {
   "cell_type": "code",
   "execution_count": 60,
   "metadata": {},
   "outputs": [],
   "source": [
    "import pandas as pd\n",
    "import os\n",
    "from langchain import OpenAI, SQLDatabase, SQLDatabaseChain\n",
    "\n"
   ]
  },
  {
   "cell_type": "code",
   "execution_count": 61,
   "metadata": {},
   "outputs": [],
   "source": [
    "import sqlalchemy as sa\n",
    "from sqlalchemy import text\n",
    "from sqlalchemy.engine.url import URL\n",
    "\n",
    "# build the sqlalchemy URL\n",
    "url = URL.create(\n",
    "\n",
    ")\n",
    "engine = sa.create_engine(url)\n"
   ]
  },
  {
   "cell_type": "code",
   "execution_count": 62,
   "metadata": {},
   "outputs": [
    {
     "name": "stdout",
     "output_type": "stream",
     "text": [
      "(0, 'A$AP Rocky', 'A$AP Rocky', 'spotify:artist:13ubrt8QOOCPljQ2FL1Kca', 83, 12336141, 'east coast hip hop-hip hop-rap-trap', 'https://i.scdn.co/image/ab6761610000e5ebee452efcf24aa4124fb28d94')\n",
      "(1, 'Lil Uzi Vert', 'Lil Uzi Vert', 'spotify:artist:4O15NlyKLIASxsJ0PrXPfz', 86, 15186167, 'melodic rap-philly rap-rage rap-rap', 'https://i.scdn.co/image/ab6761610000e5eb30122c0d3ead72f96bb5ee93')\n",
      "(2, 'Playboi Carti', 'Playboi Carti', 'spotify:artist:699OTQXzgjhIYAHMy9RyPD', 83, 8236702, 'atl hip hop-plugg-pluggnb-rage rap-rap', 'https://i.scdn.co/image/ab6761610000e5eb504ff11d788162fbf8078654')\n",
      "(3, 'Future', 'Future', 'spotify:artist:1RyvyyTE3xzB2ZywiAwp0i', 90, 14063433, 'atl hip hop-hip hop-rap-southern hip hop-trap', 'https://i.scdn.co/image/ab6761610000e5eb24e41f491b129093a6fee383')\n",
      "(4, 'Young Thug', 'Young Thug', 'spotify:artist:50co4Is1HCEo8bhOyUWKpn', 84, 8412531, 'atl hip hop-atl trap-gangster rap-melodic rap-rap-trap', 'https://i.scdn.co/image/ab6761610000e5eb547d2b41c9f2c97318aad0ed')\n",
      "(5, 'Chance the Rapper', 'Chance the Rapper', 'spotify:artist:1anyVhU62p31KFi8MEzkbf', 73, 5889568, 'chicago rap-conscious hip hop-hip hop-pop rap-rap', 'https://i.scdn.co/image/ab6761610000e5eba6ab3c4df02cec59758ae3fa')\n",
      "(6, '21 Savage', '21 Savage', 'spotify:artist:1URnnhqYAYcrqrcwql10ft', 90, 13896690, 'atl hip hop-hip hop-rap-trap', 'https://i.scdn.co/image/ab6761610000e5eb35ca7d2181258b51c0f2cf9e')\n",
      "(7, 'Lil Wayne', 'Lil Wayne', 'spotify:artist:55Aa2cqylxrFIXC767Z865', 86, 13648198, 'hip hop-new orleans rap-pop rap-rap-trap', 'https://i.scdn.co/image/ab6761610000e5ebc63aded6f4bf4d06d1377106')\n",
      "(8, 'Drake', 'Drake', 'spotify:artist:3TVXtAsR1Inumwj472S9r4', 95, 76064784, 'canadian hip hop-canadian pop-hip hop-rap-toronto rap', 'https://i.scdn.co/image/ab6761610000e5eb4293385d324db8558179afd9')\n",
      "(9, 'Travis Scott', 'Travis Scott', 'spotify:artist:0Y5tJX1MQlPlqiwlOH1tJY', 89, 22588131, 'hip hop-rap-slap house', 'https://i.scdn.co/image/ab6761610000e5ebe707b87e3f65997f6c09bfff')\n",
      "(10, 'Juice WRLD', 'Juice WRLD', 'spotify:artist:4MCBfE4596Uoi2O4DtmEMz', 88, 29410957, 'chicago rap-melodic rap-rap', 'https://i.scdn.co/image/ab6761610000e5eb1908e1a8b79abf71d5598944')\n",
      "(11, 'J. Cole', 'J. Cole', 'spotify:artist:6l3HvQ5sa6mXTsMTB19rO5', 87, 20373267, 'conscious hip hop-hip hop-north carolina hip hop-rap', 'https://i.scdn.co/image/ab6761610000e5ebadd503b411a712e277895c8a')\n",
      "(12, 'Lil Baby', 'Lil Baby', 'spotify:artist:5f7VJjfbwm532GiveGC0ZK', 88, 14357308, 'atl hip hop-atl trap-rap-trap', 'https://i.scdn.co/image/ab6761610000e5eb6cad3eff5adc29e20f189a6c')\n",
      "(13, 'Kendrick Lamar', 'Kendrick Lamar', 'spotify:artist:2YZyLoL8N0Wb9xBt1NhZWg', 89, 24280008, 'conscious hip hop-hip hop-rap-west coast rap', 'https://i.scdn.co/image/ab6761610000e5eb437b9e2a82505b3d93ff1022')\n",
      "(14, 'Roddy Ricch', 'Roddy Ricch', 'spotify:artist:757aE44tKEUQEqRuT6GnEB', 79, 9428590, 'melodic rap-rap-trap', 'https://i.scdn.co/image/ab6761610000e5eb9c30c6b69a55d48decd71600')\n",
      "(15, 'Meek Mill', 'Meek Mill', 'spotify:artist:20sxb77xiYeusSH8cVdatc', 75, 7284622, 'hip hop-philly rap-pop rap-rap-southern hip hop-trap', 'https://i.scdn.co/image/ab6761610000e5eb238b2a30c741d42a4c91b7b7')\n",
      "(16, 'Kanye West', 'Kanye West', 'spotify:artist:5K4W6rqBFWDnAN6FQUkS6x', 90, 20268773, 'chicago rap-hip hop-rap', 'https://i.scdn.co/image/ab6761610000e5eb867008a971fae0f4d913f63a')\n",
      "(17, 'JAY-Z', 'JAY-Z', 'spotify:artist:3nFkdlSjzX9mRTtwJOzDYB', 84, 8412612, 'east coast hip hop-gangster rap-hip hop-pop rap-rap', 'https://i.scdn.co/image/ab6761610000e5ebc75afcd5a9027f60eaebb5e4')\n",
      "(18, 'Isaiah Rashad', 'Isaiah Rashad', 'spotify:artist:6aaMZ3fcfLv4tEbmY7bjRM', 67, 1287004, 'hip hop-indie hip hop-rap-tennessee hip hop-underground hip hop', 'https://i.scdn.co/image/ab6761610000e5eb1ff1685224034e6c12538722')\n",
      "(19, 'Eminem', 'Eminem', 'spotify:artist:7dGJo4pcD2V6oG8kP0tJRR', 90, 71953213, 'detroit hip hop-hip hop-rap', 'https://i.scdn.co/image/ab6761610000e5eba00b11c129b27a88fc72f36b')\n",
      "(20, 'Pop Smoke', 'Pop Smoke', 'spotify:artist:0eDvMgVFoNV3TpwtrVCoTj', 82, 12569642, 'brooklyn drill-rap', 'https://i.scdn.co/image/ab6761610000e5eb597f9edd2cd1a892d4412b09')\n",
      "(21, 'Lil Durk', 'Lil Durk', 'spotify:artist:3hcs9uc56yIGFCSy9leWe7', 87, 5703814, 'chicago drill-chicago rap-drill-hip hop-rap-trap', 'https://i.scdn.co/image/ab6761610000e5eba0461c1f2218374aa672ce4e')\n",
      "(22, 'Gunna', 'Gunna', 'spotify:artist:2hlmm7s2ICUX0LVIhVFlZQ', 83, 5326468, 'atl hip hop-melodic rap-rap-trap', 'https://i.scdn.co/image/ab6761610000e5eb6501f8a7d50c56e86e46f920')\n",
      "(23, 'Trippie Redd', 'Trippie Redd', 'spotify:artist:6Xgp2XMz1fhVYe7i6yNAax', 80, 8740215, 'melodic rap-rap', 'https://i.scdn.co/image/ab6761610000e5eb32f8f4df5e7b05a7e4d170ca')\n",
      "(24, 'Kid Cudi', 'Kid Cudi', 'spotify:artist:0fA0VVWsXO9YnASrzqfmYu', 80, 6517484, 'hip hop-ohio hip hop-pop rap-rap', 'https://i.scdn.co/image/ab6761610000e5eb876faa285687786c3d314ae0')\n",
      "(25, 'Pusha T', 'Pusha T', 'spotify:artist:0ONHkAv9pCAFxb0zJwDNTy', 71, 2781365, 'gangster rap-hip hop-rap-southern hip hop-trap-virginia hip hop', 'https://i.scdn.co/image/ab6761610000e5ebc5b88a3924d8318f25f20594')\n",
      "(26, 'Earl Sweatshirt', 'Earl Sweatshirt', 'spotify:artist:3A5tHz1SfngyOZM2gItYKu', 68, 2023745, 'drumless hip hop-experimental hip hop-hip hop-rap-underground hip hop', 'https://i.scdn.co/image/ab6761610000e5eb5e93db92ca7864585fbe5f28')\n",
      "(27, 'Tyler The Creator', 'Tyler The Creator', 'spotify:artist:4V8LLVI7PbaPR0K2TGSxFF', 87, 11732601, 'hip hop-rap', 'https://i.scdn.co/image/ab6761610000e5eb8278b782cbb5a3963db88ada')\n",
      "(28, 'Big Sean', 'Big Sean', 'spotify:artist:0c173mlxpT3dSFRgMO8XPh', 77, 10853331, 'detroit hip hop-hip hop-pop rap-r&b-rap-southern hip hop-trap', 'https://i.scdn.co/image/ab6761610000e5eb89dccc0a0b3d818c8d5fb711')\n",
      "(29, 'Yeat', 'Yeat', 'spotify:artist:3qiHUAX7zY4Qnjx8TNUzVx', 83, 2557351, 'pluggnb-rage rap', 'https://i.scdn.co/image/ab6761610000e5eba36d13951ab8280a63bac16c')\n",
      "(30, 'Don Toliver', 'Don Toliver', 'spotify:artist:4Gso3d4CscCijv0lmajZWs', 84, 2948309, 'rap', 'https://i.scdn.co/image/ab6761610000e5ebeb63bf6379a9ea8453a30020')\n",
      "(31, 'Migos', 'Migos', 'spotify:artist:6oMuImdp5ZcFhWP0ESe6mG', 76, 13222904, 'atl hip hop-hip hop-rap-trap', 'https://i.scdn.co/image/ab6761610000e5ebf4593f7b778219838d858c34')\n",
      "(32, 'Action Bronson', 'Action Bronson', 'spotify:artist:7BMccF0hQFBpP6417k1OtQ', 62, 766986, 'alternative hip hop-east coast hip hop-hip hop-nyc rap-queens hip hop', 'https://i.scdn.co/image/ab6761610000e5ebaef8392a62c123944b6383b2')\n"
     ]
    }
   ],
   "source": [
    "with engine.connect() as conn:\n",
    "    result = conn.execute(text(\"select * from artists;\"))\n",
    "    for row in result:\n",
    "        print(row)"
   ]
  },
  {
   "cell_type": "code",
   "execution_count": 63,
   "metadata": {},
   "outputs": [],
   "source": [
    "db = SQLDatabase.from_uri(url)\n",
    "llm = OpenAI(temperature=0, verbose=True)"
   ]
  },
  {
   "cell_type": "code",
   "execution_count": 69,
   "metadata": {},
   "outputs": [
    {
     "name": "stdout",
     "output_type": "stream",
     "text": [
      "\n",
      "\n",
      "\u001b[1m> Entering new SQLDatabaseChain chain...\u001b[0m\n",
      "How many songs does Kanye have\n",
      "SQLQuery:\u001b[32;1m\u001b[1;3mSELECT COUNT(*) FROM songs WHERE artist_names LIKE 'Kanye%';\u001b[0m\n",
      "SQLResult: \u001b[33;1m\u001b[1;3m[(188,)]\u001b[0m\n",
      "Answer:\u001b[32;1m\u001b[1;3mKanye has 188 songs.\u001b[0m\n",
      "\u001b[1m> Finished chain.\u001b[0m\n"
     ]
    },
    {
     "data": {
      "text/plain": [
       "'Kanye has 188 songs.'"
      ]
     },
     "execution_count": 69,
     "metadata": {},
     "output_type": "execute_result"
    }
   ],
   "source": [
    "db_chain = SQLDatabaseChain.from_llm(llm, db, verbose=True, use_query_checker=True)\n",
    "db_chain.run(\"How many songs does Kanye have\")"
   ]
  },
  {
   "cell_type": "code",
   "execution_count": 71,
   "metadata": {},
   "outputs": [
    {
     "name": "stdout",
     "output_type": "stream",
     "text": [
      "\n",
      "\n",
      "\u001b[1m> Entering new SQLDatabaseChain chain...\u001b[0m\n",
      "which albums are stored that are by Kanye West? do not put a limit on the query\n",
      "SQLQuery:\u001b[32;1m\u001b[1;3mSELECT album_name FROM albums WHERE artist_names LIKE 'Kanye West';\u001b[0m\n",
      "SQLResult: \u001b[33;1m\u001b[1;3m[('Donda (Deluxe)',), ('Donda',), ('JESUS IS KING',), ('ye',), ('The Life Of Pablo',), ('Yeezus',), ('My Beautiful Dark Twisted Fantasy',), ('808s & Heartbreak',), ('Graduation',), ('Late Registration',), ('The College Dropout',)]\u001b[0m\n",
      "Answer:\u001b[32;1m\u001b[1;3mThe albums stored that are by Kanye West are Donda (Deluxe), Donda, JESUS IS KING, ye, The Life Of Pablo, Yeezus, My Beautiful Dark Twisted Fantasy, 808s & Heartbreak, Graduation, Late Registration, and The College Dropout.\u001b[0m\n",
      "\u001b[1m> Finished chain.\u001b[0m\n"
     ]
    },
    {
     "data": {
      "text/plain": [
       "'The albums stored that are by Kanye West are Donda (Deluxe), Donda, JESUS IS KING, ye, The Life Of Pablo, Yeezus, My Beautiful Dark Twisted Fantasy, 808s & Heartbreak, Graduation, Late Registration, and The College Dropout.'"
      ]
     },
     "execution_count": 71,
     "metadata": {},
     "output_type": "execute_result"
    }
   ],
   "source": [
    "db_chain.run(\"which albums are stored that are by Kanye West? do not put a limit on the query\")"
   ]
  },
  {
   "cell_type": "code",
   "execution_count": null,
   "metadata": {},
   "outputs": [],
   "source": []
  },
  {
   "cell_type": "code",
   "execution_count": null,
   "metadata": {},
   "outputs": [],
   "source": []
  }
 ],
 "metadata": {
  "kernelspec": {
   "display_name": "Python 3",
   "language": "python",
   "name": "python3"
  },
  "language_info": {
   "codemirror_mode": {
    "name": "ipython",
    "version": 3
   },
   "file_extension": ".py",
   "mimetype": "text/x-python",
   "name": "python",
   "nbconvert_exporter": "python",
   "pygments_lexer": "ipython3",
   "version": "3.10.7"
  },
  "orig_nbformat": 4
 },
 "nbformat": 4,
 "nbformat_minor": 2
}
